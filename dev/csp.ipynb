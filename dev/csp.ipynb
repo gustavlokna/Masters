{
 "cells": [
  {
   "cell_type": "code",
   "execution_count": 8,
   "id": "4292cf05",
   "metadata": {},
   "outputs": [
    {
     "name": "stdout",
     "output_type": "stream",
     "text": [
      "Fant 36 filer.\n",
      "Kombinert dataframe: (216, 10)\n",
      "Lagret kombinert Excel-fil: 1s.xlsx\n"
     ]
    }
   ],
   "source": [
    "# %%\n",
    "import pandas as pd\n",
    "import os\n",
    "from glob import glob\n",
    "\n",
    "# %%\n",
    "# Mappen der alle CSV-filene ligger\n",
    "input_folder = \"../Data/exploration/csp/splitted/segmented_1s_epoch_256hz/\"\n",
    "output_file = \"1s.xlsx\"\n",
    "\n",
    "# %%\n",
    "# Finn alle CSV-filer\n",
    "csv_files = sorted(glob(os.path.join(input_folder, \"*.csv\")))\n",
    "print(f\"Fant {len(csv_files)} filer.\")\n",
    "\n",
    "# %%\n",
    "# Kombiner alle CSV-filer til én DataFrame\n",
    "all_data = []\n",
    "for file in csv_files:\n",
    "    df = pd.read_csv(file)\n",
    "    df[\"source_file\"] = os.path.basename(file)\n",
    "    all_data.append(df)\n",
    "\n",
    "combined_df = pd.concat(all_data, ignore_index=True)\n",
    "print(f\"Kombinert dataframe: {combined_df.shape}\")\n",
    "\n",
    "# %%\n",
    "# Lag en strukturert og oversiktelig Excel-fil\n",
    "with pd.ExcelWriter(output_file, engine=\"xlsxwriter\") as writer:\n",
    "    # Hovedark med alt\n",
    "    combined_df.to_excel(writer, sheet_name=\"All_Results\", index=False)\n",
    "\n",
    "    # Separate ark per subject (f.eks. s01, s02, ...)\n",
    "    for subject, sub_df in combined_df.groupby(\"subject\"):\n",
    "        sub_df.to_excel(writer, sheet_name=str(subject)[:31], index=False)\n",
    "\n",
    "print(f\"Lagret kombinert Excel-fil: {output_file}\")\n"
   ]
  },
  {
   "cell_type": "code",
   "execution_count": 2,
   "id": "643b4b81",
   "metadata": {},
   "outputs": [
    {
     "name": "stdout",
     "output_type": "stream",
     "text": [
      "Requirement already satisfied: XlsxWriter in c:\\users\\gustav\\appdata\\local\\packages\\pythonsoftwarefoundation.python.3.11_qbz5n2kfra8p0\\localcache\\local-packages\\python311\\site-packages (3.2.9)\n"
     ]
    },
    {
     "name": "stderr",
     "output_type": "stream",
     "text": [
      "\n",
      "[notice] A new release of pip is available: 23.3.1 -> 25.3\n",
      "[notice] To update, run: C:\\Users\\Gustav\\AppData\\Local\\Microsoft\\WindowsApps\\PythonSoftwareFoundation.Python.3.11_qbz5n2kfra8p0\\python.exe -m pip install --upgrade pip\n"
     ]
    }
   ],
   "source": [
    "#!pip install XlsxWriter\n"
   ]
  },
  {
   "cell_type": "code",
   "execution_count": null,
   "id": "c0f7a065",
   "metadata": {},
   "outputs": [],
   "source": []
  }
 ],
 "metadata": {
  "kernelspec": {
   "display_name": "Python 3",
   "language": "python",
   "name": "python3"
  },
  "language_info": {
   "codemirror_mode": {
    "name": "ipython",
    "version": 3
   },
   "file_extension": ".py",
   "mimetype": "text/x-python",
   "name": "python",
   "nbconvert_exporter": "python",
   "pygments_lexer": "ipython3",
   "version": "3.11.9"
  }
 },
 "nbformat": 4,
 "nbformat_minor": 5
}
