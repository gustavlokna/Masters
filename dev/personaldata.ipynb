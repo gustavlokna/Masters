{
 "cells": [
  {
   "cell_type": "code",
   "execution_count": 5,
   "id": "42ade6ec",
   "metadata": {},
   "outputs": [
    {
     "name": "stdout",
     "output_type": "stream",
     "text": [
      "Saved: subject_summary.xlsx\n"
     ]
    }
   ],
   "source": [
    "import pandas as pd\n",
    "\n",
    "# running from Dream2025/dev\n",
    "input_file = \"../Data/raw/Tononi Serial Awakenings-Part1-No_PSGs/Tononi Serial Awakenings/Records.csv\"\n",
    "output_file = \"subject_summary.xlsx\"\n",
    "\n",
    "df = pd.read_csv(input_file)\n",
    "\n",
    "grouped = df.groupby(\"Subject ID\")\n",
    "\n",
    "summary = pd.DataFrame({\n",
    "    \"Subject ID\": grouped[\"Subject ID\"].first(),\n",
    "    \"Age\": grouped[\"Subject age\"].first(),\n",
    "    \"Sex\": grouped[\"Subject sex\"].first(),\n",
    "    \"Total Episodes\": grouped.size(),\n",
    "    \"Num Experience 0\": grouped.apply(lambda x: (x[\"Experience\"] == 0).sum()),\n",
    "    \"Num Experience 1\": grouped.apply(lambda x: (x[\"Experience\"] == 1).sum()),\n",
    "    \"Num Experience 2\": grouped.apply(lambda x: (x[\"Experience\"] == 2).sum())\n",
    "}).reset_index(drop=True)\n",
    "\n",
    "summary.to_excel(output_file, index=False)\n",
    "\n",
    "print(\"Saved:\", output_file)\n"
   ]
  },
  {
   "cell_type": "code",
   "execution_count": null,
   "id": "e9330d39",
   "metadata": {},
   "outputs": [],
   "source": []
  }
 ],
 "metadata": {
  "kernelspec": {
   "display_name": "Python 3",
   "language": "python",
   "name": "python3"
  },
  "language_info": {
   "codemirror_mode": {
    "name": "ipython",
    "version": 3
   },
   "file_extension": ".py",
   "mimetype": "text/x-python",
   "name": "python",
   "nbconvert_exporter": "python",
   "pygments_lexer": "ipython3",
   "version": "3.11.9"
  }
 },
 "nbformat": 4,
 "nbformat_minor": 5
}
